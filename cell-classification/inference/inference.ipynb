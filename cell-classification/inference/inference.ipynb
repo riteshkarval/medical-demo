{
 "cells": [
  {
   "cell_type": "raw",
   "metadata": {},
   "source": [
    "tensorflow_model_server --model_base_path=/home/ritesh/Dkube-Demos/model/rpn_model --rest_api_port=9000 --model_name=rpn\n",
    "\n",
    "tensorflow_model_server --model_base_path=/home/ritesh/Dkube-Demos/model/clf_model --rest_api_port=9001 --model_name=clf"
   ]
  },
  {
   "cell_type": "code",
   "execution_count": 1,
   "metadata": {},
   "outputs": [],
   "source": [
    "import warnings\n",
    "warnings.filterwarnings(\"ignore\")"
   ]
  },
  {
   "cell_type": "code",
   "execution_count": 2,
   "metadata": {},
   "outputs": [],
   "source": [
    "import json\n",
    "import numpy as np\n",
    "import requests\n",
    "import tensorflow as tf\n",
    "import pandas as pd\n",
    "import cv2\n",
    "import pickle\n",
    "from keras_frcnn import roi_helpers"
   ]
  },
  {
   "cell_type": "code",
   "execution_count": 46,
   "metadata": {},
   "outputs": [],
   "source": [
    "def format_img_size(img):\n",
    "    \"\"\" formats the image size based on config \"\"\"\n",
    "    img_min_side = float(im_size)\n",
    "    (height,width,_) = img.shape\n",
    "        \n",
    "    if width <= height:\n",
    "        ratio = img_min_side/width\n",
    "        new_height = int(ratio * height)\n",
    "        new_width = int(img_min_side)\n",
    "    else:\n",
    "        ratio = img_min_side/height\n",
    "        new_width = int(ratio * width)\n",
    "        new_height = int(img_min_side)\n",
    "    img = cv2.resize(img, (new_width, new_height), interpolation=cv2.INTER_CUBIC)\n",
    "    return img, ratio    \n",
    "\n",
    "def format_img_channels(img):\n",
    "    \"\"\" formats the image channels based on config \"\"\"\n",
    "    img = img[:, :, (2, 1, 0)]\n",
    "    img = img.astype(np.float32)\n",
    "    img[:, :, 0] -= img_channel_mean[0]\n",
    "    img[:, :, 1] -= img_channel_mean[1]\n",
    "    img[:, :, 2] -= img_channel_mean[2]\n",
    "    img /= img_scaling_factor\n",
    "    img = np.transpose(img, (2, 0, 1))\n",
    "    img = np.expand_dims(img, axis=0)\n",
    "    return img\n",
    "\n",
    "def format_img(img):\n",
    "    \"\"\" formats an image for model prediction based on config \"\"\"\n",
    "    img, ratio = format_img_size(img)\n",
    "    img = format_img_channels(img)\n",
    "    return img, ratio\n",
    "\n",
    "def get_real_coordinates(ratio, x1, y1, x2, y2):\n",
    "    real_x1 = int(round(x1 // ratio))\n",
    "    real_y1 = int(round(y1 // ratio))\n",
    "    real_x2 = int(round(x2 // ratio))\n",
    "    real_y2 = int(round(y2 // ratio))\n",
    "    return (real_x1, real_y1, real_x2 ,real_y2)"
   ]
  },
  {
   "cell_type": "code",
   "execution_count": 4,
   "metadata": {},
   "outputs": [],
   "source": [
    "config_output_filename = 'model/config.pickle'\n",
    "with open(config_output_filename, 'rb') as f_in:\n",
    "    C = pickle.load(f_in)"
   ]
  },
  {
   "cell_type": "code",
   "execution_count": 5,
   "metadata": {},
   "outputs": [],
   "source": [
    "r = requests.get('http://localhost:9000/v1/models/rpn/metadata')\n",
    "res = dict(json.loads(r.content.decode('utf-8')))"
   ]
  },
  {
   "cell_type": "code",
   "execution_count": 6,
   "metadata": {},
   "outputs": [],
   "source": [
    "im_size = 600\n",
    "img_channel_mean = [103.939, 116.779, 123.68]\n",
    "img_scaling_factor = 1.0"
   ]
  },
  {
   "cell_type": "code",
   "execution_count": 7,
   "metadata": {
    "scrolled": true
   },
   "outputs": [
    {
     "data": {
      "text/plain": [
       "{'input': {'dtype': 'DT_FLOAT',\n",
       "  'tensor_shape': {'dim': [{'size': '-1', 'name': ''},\n",
       "    {'size': '600', 'name': ''},\n",
       "    {'size': '600', 'name': ''},\n",
       "    {'size': '3', 'name': ''}],\n",
       "   'unknown_rank': False},\n",
       "  'name': 'input_3:0'}}"
      ]
     },
     "execution_count": 7,
     "metadata": {},
     "output_type": "execute_result"
    }
   ],
   "source": [
    "res['metadata']['signature_def']['signature_def']['serving_default']['inputs']"
   ]
  },
  {
   "cell_type": "code",
   "execution_count": 23,
   "metadata": {},
   "outputs": [],
   "source": [
    "import cv2\n",
    "im_path = '/home/ritesh/Dkube-Demos/test/Nucleoplasm_Cytosol/0cfbad10-bbb7-11e8-b2ba-ac1f6b6435d0.png'\n",
    "img = cv2.imread(im_path)"
   ]
  },
  {
   "cell_type": "code",
   "execution_count": 24,
   "metadata": {},
   "outputs": [],
   "source": [
    "X, ratio = format_img(img)\n",
    "\n",
    "X = np.transpose(X, (0, 2, 3, 1))"
   ]
  },
  {
   "cell_type": "code",
   "execution_count": 25,
   "metadata": {},
   "outputs": [
    {
     "data": {
      "text/plain": [
       "(1, 600, 600, 3)"
      ]
     },
     "execution_count": 25,
     "metadata": {},
     "output_type": "execute_result"
    }
   ],
   "source": [
    "X.shape"
   ]
  },
  {
   "cell_type": "code",
   "execution_count": 26,
   "metadata": {},
   "outputs": [],
   "source": [
    "payload = {\n",
    "    \"inputs\": {'input': X.tolist()}\n",
    "}\n",
    "r = requests.post('http://localhost:9000/v1/models/rpn:predict', json=payload)"
   ]
  },
  {
   "cell_type": "code",
   "execution_count": 27,
   "metadata": {},
   "outputs": [
    {
     "data": {
      "text/plain": [
       "<Response [200]>"
      ]
     },
     "execution_count": 27,
     "metadata": {},
     "output_type": "execute_result"
    }
   ],
   "source": [
    "r"
   ]
  },
  {
   "cell_type": "code",
   "execution_count": 28,
   "metadata": {},
   "outputs": [],
   "source": [
    "pred = json.loads(r.content.decode('utf-8'))"
   ]
  },
  {
   "cell_type": "code",
   "execution_count": 29,
   "metadata": {},
   "outputs": [
    {
     "data": {
      "text/plain": [
       "dict_keys(['rpn_out_class_1/Sigmoid:0', 'activation_88/Relu:0', 'rpn_out_regress_1/BiasAdd:0'])"
      ]
     },
     "execution_count": 29,
     "metadata": {},
     "output_type": "execute_result"
    }
   ],
   "source": [
    "pred['outputs'].keys()"
   ]
  },
  {
   "cell_type": "code",
   "execution_count": 30,
   "metadata": {},
   "outputs": [],
   "source": [
    "Y1 = np.asarray(pred['outputs']['rpn_out_class_1/Sigmoid:0'])\n",
    "Y2 = np.asarray(pred['outputs']['rpn_out_regress_1/BiasAdd:0'])\n",
    "F = np.asarray(pred['outputs']['activation_88/Relu:0'])"
   ]
  },
  {
   "cell_type": "code",
   "execution_count": 31,
   "metadata": {},
   "outputs": [
    {
     "data": {
      "text/plain": [
       "((1, 38, 38, 9), (1, 38, 38, 36), (1, 38, 38, 1024))"
      ]
     },
     "execution_count": 31,
     "metadata": {},
     "output_type": "execute_result"
    }
   ],
   "source": [
    "Y1.shape, Y2.shape, F.shape"
   ]
  },
  {
   "cell_type": "code",
   "execution_count": 32,
   "metadata": {},
   "outputs": [],
   "source": [
    "r = requests.get('http://localhost:9001/v1/models/clf/metadata')\n",
    "res = dict(json.loads(r.content.decode('utf-8')))"
   ]
  },
  {
   "cell_type": "code",
   "execution_count": 33,
   "metadata": {},
   "outputs": [
    {
     "data": {
      "text/plain": [
       "{'input_4:0': {'dtype': 'DT_FLOAT',\n",
       "  'tensor_shape': {'dim': [{'size': '-1', 'name': ''},\n",
       "    {'size': '32', 'name': ''},\n",
       "    {'size': '4', 'name': ''}],\n",
       "   'unknown_rank': False},\n",
       "  'name': 'input_4:0'},\n",
       " 'input_5:0': {'dtype': 'DT_FLOAT',\n",
       "  'tensor_shape': {'dim': [{'size': '-1', 'name': ''},\n",
       "    {'size': '38', 'name': ''},\n",
       "    {'size': '38', 'name': ''},\n",
       "    {'size': '1024', 'name': ''}],\n",
       "   'unknown_rank': False},\n",
       "  'name': 'input_5:0'}}"
      ]
     },
     "execution_count": 33,
     "metadata": {},
     "output_type": "execute_result"
    }
   ],
   "source": [
    "res['metadata']['signature_def']['signature_def']['serving_default']['inputs']"
   ]
  },
  {
   "cell_type": "code",
   "execution_count": 34,
   "metadata": {},
   "outputs": [],
   "source": [
    "R = roi_helpers.rpn_to_roi(Y1, Y2, C, overlap_thresh=0.7)\n",
    "R[:, 2] -= R[:, 0]\n",
    "R[:, 3] -= R[:, 1]"
   ]
  },
  {
   "cell_type": "code",
   "execution_count": 55,
   "metadata": {},
   "outputs": [],
   "source": [
    "bboxes = {}\n",
    "probs = {}\n",
    "all_imgs = []\n",
    "classes = {}\n",
    "bbox_threshold = 0.5\n",
    "visualise = True\n",
    "class_mapping = {0: 'Nucleoplasm',1: 'Cytosol',2: 'bg'}\n",
    "class_to_color = {class_mapping[v]: np.random.randint(0, 255, 3) for v in class_mapping}"
   ]
  },
  {
   "cell_type": "code",
   "execution_count": 56,
   "metadata": {},
   "outputs": [
    {
     "data": {
      "text/plain": [
       "True"
      ]
     },
     "execution_count": 56,
     "metadata": {},
     "output_type": "execute_result"
    }
   ],
   "source": [
    "for jk in range(R.shape[0]//C.num_rois + 1):\n",
    "    ROIs = np.expand_dims(R[C.num_rois*jk:C.num_rois*(jk+1), :], axis=0)\n",
    "    if ROIs.shape[1] == 0:\n",
    "        break\n",
    "\n",
    "    if jk == R.shape[0]//C.num_rois:\n",
    "        #pad R\n",
    "        curr_shape = ROIs.shape\n",
    "        target_shape = (curr_shape[0],C.num_rois,curr_shape[2])\n",
    "        ROIs_padded = np.zeros(target_shape).astype(ROIs.dtype)\n",
    "        ROIs_padded[:, :curr_shape[1], :] = ROIs\n",
    "        ROIs_padded[0, curr_shape[1]:, :] = ROIs[0, 0, :]\n",
    "        ROIs = ROIs_padded\n",
    "    payload = {\n",
    "            \"inputs\": {'input_5:0': F.tolist(), 'input_4:0': ROIs.tolist() }\n",
    "            }\n",
    "    r = requests.post('http://localhost:9001/v1/models/clf:predict', json=payload)\n",
    "    pred = json.loads(r.content.decode('utf-8'))\n",
    "    P_cls = np.asarray(pred['outputs']['dense_class_3_1/Reshape_1:0'])\n",
    "    P_regr = np.asarray(pred['outputs']['dense_regress_3_1/Reshape_1:0'])\n",
    "    for ii in range(P_cls.shape[1]):\n",
    "        if np.max(P_cls[0, ii, :]) < bbox_threshold or np.argmax(P_cls[0, ii, :]) == (P_cls.shape[2] - 1):\n",
    "            continue\n",
    "\n",
    "        cls_name = class_mapping[np.argmax(P_cls[0, ii, :])]\n",
    "        if cls_name not in bboxes:\n",
    "            bboxes[cls_name] = []\n",
    "            probs[cls_name] = []\n",
    "\n",
    "        (x, y, w, h) = ROIs[0, ii, :]\n",
    "\n",
    "        cls_num = np.argmax(P_cls[0, ii, :])\n",
    "        try:\n",
    "            (tx, ty, tw, th) = P_regr[0, ii, 4*cls_num:4*(cls_num+1)]\n",
    "            tx /= C.classifier_regr_std[0]\n",
    "            ty /= C.classifier_regr_std[1]\n",
    "            tw /= C.classifier_regr_std[2]\n",
    "            th /= C.classifier_regr_std[3]\n",
    "            x, y, w, h = roi_helpers.apply_regr(x, y, w, h, tx, ty, tw, th)\n",
    "        except:\n",
    "            pass\n",
    "        bboxes[cls_name].append([C.rpn_stride*x, C.rpn_stride*y, C.rpn_stride*(x+w), C.rpn_stride*(y+h)])\n",
    "        probs[cls_name].append(np.max(P_cls[0, ii, :]))\n",
    "all_dets = []\n",
    "for key in bboxes:\n",
    "    bbox = np.array(bboxes[key])\n",
    "\n",
    "    new_boxes, new_probs = roi_helpers.non_max_suppression_fast(bbox, np.array(probs[key]), overlap_thresh=0.5)\n",
    "    for jk in range(new_boxes.shape[0]):\n",
    "        (x1, y1, x2, y2) = new_boxes[jk,:]\n",
    "\n",
    "        (real_x1, real_y1, real_x2, real_y2) = get_real_coordinates(ratio, x1, y1, x2, y2)\n",
    "\n",
    "        cv2.rectangle(img,(real_x1, real_y1), (real_x2, real_y2), (int(class_to_color[key][0]), int(class_to_color[key][1]), int(class_to_color[key][2])),2)\n",
    "\n",
    "        textLabel = '{}: {}'.format(key,int(100*new_probs[jk]))\n",
    "        all_dets.append((key,100*new_probs[jk]))\n",
    "\n",
    "        (retval,baseLine) = cv2.getTextSize(textLabel,cv2.FONT_HERSHEY_COMPLEX,1,1)\n",
    "        textOrg = (real_x1, real_y1-0)\n",
    "\n",
    "        cv2.rectangle(img, (textOrg[0] - 5, textOrg[1]+baseLine - 5), (textOrg[0]+retval[0] + 5, textOrg[1]-retval[1] - 5), (0, 0, 0), 2)\n",
    "        cv2.rectangle(img, (textOrg[0] - 5,textOrg[1]+baseLine - 5), (textOrg[0]+retval[0] + 5, textOrg[1]-retval[1] - 5), (255, 255, 255), -1)\n",
    "        cv2.putText(img, textLabel, textOrg, cv2.FONT_HERSHEY_DUPLEX, 1, (0, 0, 0), 1)\n",
    "cv2.imwrite('reslult.png',img)\n",
    "    "
   ]
  },
  {
   "cell_type": "code",
   "execution_count": 57,
   "metadata": {},
   "outputs": [
    {
     "data": {
      "text/plain": [
       "<matplotlib.image.AxesImage at 0x7f7db65a4c88>"
      ]
     },
     "execution_count": 57,
     "metadata": {},
     "output_type": "execute_result"
    },
    {
     "data": {
      "image/png": "[encoded data removed]",
      "text/plain": [
       "<Figure size 432x288 with 1 Axes>"
      ]
     },
     "metadata": {
      "needs_background": "light"
     },
     "output_type": "display_data"
    }
   ],
   "source": [
    "import matplotlib.pyplot as plt\n",
    "plt.imshow(img)"
   ]
  },
  {
   "cell_type": "code",
   "execution_count": null,
   "metadata": {},
   "outputs": [],
   "source": []
  }
 ],
 "metadata": {
  "kernelspec": {
   "display_name": "Python 3",
   "language": "python",
   "name": "python3"
  },
  "language_info": {
   "codemirror_mode": {
    "name": "ipython",
    "version": 3
   },
   "file_extension": ".py",
   "mimetype": "text/x-python",
   "name": "python",
   "nbconvert_exporter": "python",
   "pygments_lexer": "ipython3",
   "version": "3.6.9"
  }
 },
 "nbformat": 4,
 "nbformat_minor": 2
}
